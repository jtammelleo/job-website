{
 "cells": [
  {
   "cell_type": "code",
   "execution_count": 96,
   "id": "5d976573",
   "metadata": {},
   "outputs": [],
   "source": [
    "import matplotlib.pyplot as plt\n",
    "import numpy as np\n",
    "import pandas as pd\n",
    "import seaborn as sns\n",
    "\n",
    "from sklearn.ensemble import RandomForestClassifier\n",
    "from sklearn.ensemble import AdaBoostClassifier\n",
    "from sklearn.metrics import accuracy_score\n",
    "from sklearn.model_selection import cross_val_score, train_test_split\n",
    "from sklearn.tree import DecisionTreeClassifier\n",
    "from sklearn.utils import resample\n",
    "\n",
    "# pandas tricks for better display\n",
    "pd.set_option('display.width', 1500)\n",
    "pd.set_option('display.max_columns', 100)\n",
    "\n",
    "%matplotlib inline"
   ]
  },
  {
   "cell_type": "code",
   "execution_count": 158,
   "id": "53e4afe2",
   "metadata": {},
   "outputs": [],
   "source": [
    "data = pd.read_csv(\"compiled_job_data.csv\")\n",
    "df= pd.DataFrame(data)\n"
   ]
  },
  {
   "cell_type": "code",
   "execution_count": 159,
   "id": "20803f5c",
   "metadata": {},
   "outputs": [],
   "source": [
    "\n",
    "df= df[['Current Title','Match Title','Index','Total Job Openings','Median Annual Wage','Entry Level Education','Work Experience','Unnamed: 15']]\n",
    "df.rename(columns = {'Unnamed: 15':'location'}, inplace = True)\n"
   ]
  },
  {
   "cell_type": "code",
   "execution_count": 165,
   "id": "b62c20dd",
   "metadata": {},
   "outputs": [],
   "source": [
    "df = df.fillna('')\n",
    "\n",
    "df_short= df[['Current Title','Match Title',\"Index\", \"Total Job Openings\"]]\n",
    "\n",
    "df_short_grouped=df_short.groupby(['Current Title','Match Title', 'Index']).agg({'Total Job Openings': ['sum']}).reset_index()\n",
    "df_short_grouped=df_short_grouped[['Current Title','Match Title']]\n",
    "\n",
    "\n"
   ]
  },
  {
   "cell_type": "code",
   "execution_count": 179,
   "id": "7cd18e02",
   "metadata": {},
   "outputs": [],
   "source": [
    "df_sliced_dict = {}\n",
    "\n",
    "for i in df_short_grouped['Current Title'].unique():\n",
    "    \n",
    "    df_sliced_dict[i] = df[  df['Current Title'] == i ]\n",
    " \n",
    "\n",
    "\n",
    "count=1\n",
    "for i in df_sliced_dict:\n",
    "    df_sliced_dict[i]\n",
    "    Table= \"table\"+str(count)+\".htm\"\n",
    "    df_sliced_dict[i].to_html(Table)\n",
    "    count+=1"
   ]
  },
  {
   "cell_type": "code",
   "execution_count": 173,
   "id": "586ce9dd",
   "metadata": {},
   "outputs": [],
   "source": [
    "df_sliced_dict['Tank Car, Truck, and Ship Loaders']\n",
    "\n",
    "df_sliced_dict['Tank Car, Truck, and Ship Loaders'].to_html(\"Table.htm\")"
   ]
  },
  {
   "cell_type": "code",
   "execution_count": 164,
   "id": "698273ce",
   "metadata": {},
   "outputs": [],
   "source": [
    "#Number_Current_Unique_Jobs=df['Current Title'].nunique() \n",
    "#Number_Unique_Jobs\n",
    "#Job_data_df['Work Experience'].nunique()\n",
    "#df['Work Experience'].nunique()\n",
    "#df_current=df['Entry Level Education'].unique()\n",
    "#df_current =pd.DataFrame(df_current)\n"
   ]
  },
  {
   "cell_type": "code",
   "execution_count": 163,
   "id": "30412e72",
   "metadata": {},
   "outputs": [],
   "source": [
    "#High_level_df= df[(df[\"Entry Level Education\"]==\"Bachelor's degree\") & (df[\"Work Experience\"]==\"5 years or more\")]\n",
    "#High_level_df"
   ]
  },
  {
   "cell_type": "code",
   "execution_count": 162,
   "id": "35f24893",
   "metadata": {},
   "outputs": [],
   "source": [
    "#High_level_df['Match Title'].nunique()\n",
    "#pd.DataFrame(High_level_df['Current Title'].unique())\n",
    "#High_level_df['location'].nunique()\n",
    "#pd.DataFrame(High_level_df['Match Title'].unique())"
   ]
  },
  {
   "cell_type": "code",
   "execution_count": 161,
   "id": "b999e9e4",
   "metadata": {},
   "outputs": [],
   "source": [
    "\n",
    "#Non_managerial_df= df[(df[\"Entry Level Education\"]!=\"Bachelor's degree\") & (df[\"Work Experience\"]!=\"5 years or more\")]\n",
    "#Non_managerial_df['location'].nunique()\n",
    "#pd.DataFrame(Non_managerial_df['Current Title'].unique())"
   ]
  },
  {
   "cell_type": "code",
   "execution_count": null,
   "id": "784a16b3",
   "metadata": {},
   "outputs": [],
   "source": [
    "\n"
   ]
  }
 ],
 "metadata": {
  "kernelspec": {
   "display_name": "Python 3 (ipykernel)",
   "language": "python",
   "name": "python3"
  },
  "language_info": {
   "codemirror_mode": {
    "name": "ipython",
    "version": 3
   },
   "file_extension": ".py",
   "mimetype": "text/x-python",
   "name": "python",
   "nbconvert_exporter": "python",
   "pygments_lexer": "ipython3",
   "version": "3.10.6"
  }
 },
 "nbformat": 4,
 "nbformat_minor": 5
}
